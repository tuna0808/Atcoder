{
 "cells": [
  {
   "cell_type": "markdown",
   "metadata": {},
   "source": [
    "# AtCoder_Beginner_Contest_156 (A,B,C問題のみ)"
   ]
  },
  {
   "cell_type": "markdown",
   "metadata": {},
   "source": [
    "## A - Beginner"
   ]
  },
  {
   "cell_type": "code",
   "execution_count": 8,
   "metadata": {},
   "outputs": [
    {
     "name": "stdout",
     "output_type": "stream",
     "text": [
      "22 3051\n",
      "3051\n"
     ]
    }
   ],
   "source": [
    "N, R = map(int, input().split())\n",
    "\n",
    "if N < 10:\n",
    "    R = R + 100*(10 - N)\n",
    "\n",
    "print(R)"
   ]
  },
  {
   "cell_type": "markdown",
   "metadata": {},
   "source": [
    "## B - Digits"
   ]
  },
  {
   "cell_type": "code",
   "execution_count": 15,
   "metadata": {},
   "outputs": [
    {
     "name": "stdout",
     "output_type": "stream",
     "text": [
      "314159265 3\n",
      "18\n"
     ]
    }
   ],
   "source": [
    "N, K = map(int, input().split())\n",
    "out = \"\"\n",
    "while N > 0:\n",
    "    out = str(N%K)+out\n",
    "    N = N // K\n",
    "\n",
    "print(len(out))    "
   ]
  },
  {
   "cell_type": "markdown",
   "metadata": {},
   "source": [
    "## C - Rally"
   ]
  },
  {
   "cell_type": "code",
   "execution_count": 21,
   "metadata": {},
   "outputs": [
    {
     "name": "stdout",
     "output_type": "stream",
     "text": [
      "7\n",
      "14 14 2 13 56 2 37\n",
      "2354\n"
     ]
    }
   ],
   "source": [
    "N = int(input())\n",
    "X = list(map(int, input().split()))\n",
    "\n",
    "S = 0\n",
    "S_min = 100000000000000\n",
    "\n",
    "for i in range(min(X), max(X)+1):\n",
    "    for j in X:\n",
    "        S += (j - i)**2\n",
    "        \n",
    "    if S < S_min:\n",
    "        S_min = S\n",
    "        S = 0\n",
    "    else:\n",
    "        S = 0\n",
    "print(S_min)"
   ]
  },
  {
   "cell_type": "markdown",
   "metadata": {},
   "source": [
    "#### これでも間に合う"
   ]
  },
  {
   "cell_type": "code",
   "execution_count": 22,
   "metadata": {},
   "outputs": [
    {
     "name": "stdout",
     "output_type": "stream",
     "text": [
      "7\n",
      "14 14 2 13 56 2 37\n",
      "2354\n"
     ]
    }
   ],
   "source": [
    "N = int(input())\n",
    "X = list(map(int, input().split()))\n",
    "\n",
    "S = 0\n",
    "S_min = 100000000000000\n",
    "\n",
    "for i in range(101):# 絞ってないver\n",
    "    for j in X:\n",
    "        S += (j - i)**2\n",
    "        \n",
    "    if S < S_min:\n",
    "        S_min = S\n",
    "        S = 0\n",
    "    else:\n",
    "        S = 0\n",
    "print(S_min)"
   ]
  },
  {
   "cell_type": "markdown",
   "metadata": {},
   "source": [
    "## D - Bouquet"
   ]
  },
  {
   "cell_type": "markdown",
   "metadata": {},
   "source": [
    "#### 愚直にやったverだが, もちろん計算時間が間に合わない."
   ]
  },
  {
   "cell_type": "code",
   "execution_count": null,
   "metadata": {},
   "outputs": [],
   "source": [
    "from math import factorial\n",
    "n, a, b = map(int, input().split())\n",
    "\n",
    "L = [i for i in range(1, n+1) if (i != a) & (i != b)]\n",
    "C = 0\n",
    "\n",
    "for i in L:\n",
    "    C += factorial(n) / factorial(i) / factorial(n - i)\n",
    "\n",
    "print(int(C % (10**9 + 7)))"
   ]
  }
 ],
 "metadata": {
  "kernelspec": {
   "display_name": "Python 3",
   "language": "python",
   "name": "python3"
  },
  "language_info": {
   "codemirror_mode": {
    "name": "ipython",
    "version": 3
   },
   "file_extension": ".py",
   "mimetype": "text/x-python",
   "name": "python",
   "nbconvert_exporter": "python",
   "pygments_lexer": "ipython3",
   "version": "3.6.7"
  }
 },
 "nbformat": 4,
 "nbformat_minor": 2
}
