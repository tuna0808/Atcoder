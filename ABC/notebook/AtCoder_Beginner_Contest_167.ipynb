{
 "cells": [
  {
   "cell_type": "code",
   "execution_count": 8,
   "metadata": {},
   "outputs": [
    {
     "data": {
      "text/html": [
       "<style>.container{width:96%!important;}</style>"
      ],
      "text/plain": [
       "<IPython.core.display.HTML object>"
      ]
     },
     "metadata": {},
     "output_type": "display_data"
    }
   ],
   "source": [
    "from IPython.core.display import display, HTML\n",
    "display(HTML(\"<style>.container{width:96%!important;}</style>\"))"
   ]
  },
  {
   "cell_type": "markdown",
   "metadata": {},
   "source": [
    "## 入力形式"
   ]
  },
  {
   "cell_type": "code",
   "execution_count": null,
   "metadata": {},
   "outputs": [],
   "source": [
    "# (1) [数値単独型] \n",
    "# 入力->3\n",
    "# 出力->3\n",
    "N = int(input()) \n",
    "\n",
    "# (2) [数値リスト変換型] \n",
    "# 入力->3 4 \n",
    "# 出力->[3, 4]\n",
    "L = list(map(int, input().split()))\n",
    "\n",
    "# (3) [数値複数変数型] \n",
    "# 入力->3 4 \n",
    "# 出力-> N=3, M=4\n",
    "N, M = map(int, input().split())"
   ]
  },
  {
   "cell_type": "markdown",
   "metadata": {},
   "source": [
    "# AtCoder_Beginner_Contest167(A~D問題)"
   ]
  },
  {
   "cell_type": "markdown",
   "metadata": {},
   "source": [
    "## A"
   ]
  },
  {
   "cell_type": "code",
   "execution_count": 6,
   "metadata": {},
   "outputs": [
    {
     "name": "stdout",
     "output_type": "stream",
     "text": [
      "snuke\n",
      "snekee\n",
      "No\n"
     ]
    }
   ],
   "source": [
    "S = input()\n",
    "T = input()\n",
    "\n",
    "if S == T[:-1]:\n",
    "    print(\"Yes\")\n",
    "else:\n",
    "    print(\"No\")"
   ]
  },
  {
   "cell_type": "markdown",
   "metadata": {},
   "source": [
    "## B"
   ]
  },
  {
   "cell_type": "code",
   "execution_count": 45,
   "metadata": {},
   "outputs": [
    {
     "name": "stdout",
     "output_type": "stream",
     "text": [
      "2 1 1 3\n",
      "2\n"
     ]
    }
   ],
   "source": [
    "A, B, C, K = map(int, input().split())\n",
    "\n",
    "x_a = min(A,K)\n",
    "K -= x_a\n",
    "\n",
    "x_b = min(B,K)\n",
    "K -= x_b\n",
    "\n",
    "x_c = min(C,K)\n",
    "K -= x_c\n",
    "\n",
    "print(x_a - x_c)"
   ]
  },
  {
   "cell_type": "code",
   "execution_count": 14,
   "metadata": {},
   "outputs": [
    {
     "name": "stdout",
     "output_type": "stream",
     "text": [
      "2000000000 0 0 2000000000\n",
      "2000000000\n"
     ]
    }
   ],
   "source": [
    "A, B, C, K = map(int, input().split())\n",
    "sum = 0\n",
    "\n",
    "\n",
    "if K-A >= 0:\n",
    "    sum = sum + A\n",
    "    K = K-A\n",
    "    \n",
    "    if K-B >= 0:\n",
    "        K = K-B\n",
    "        \n",
    "        if K - C >=0 :\n",
    "            sum = sum - C\n",
    "            \n",
    "        else:\n",
    "            sum = sum - K\n",
    "            \n",
    "    else:\n",
    "        pass\n",
    "    \n",
    "else:\n",
    "    sum = sum + K\n",
    "    \n",
    "\n",
    "\n",
    "print(sum)"
   ]
  },
  {
   "cell_type": "markdown",
   "metadata": {},
   "source": [
    "## C"
   ]
  },
  {
   "cell_type": "code",
   "execution_count": 60,
   "metadata": {},
   "outputs": [
    {
     "name": "stdout",
     "output_type": "stream",
     "text": [
      "8 5 22 \n",
      "100 3 7 5 3 1\n",
      "164 4 5 2 7 8\n",
      "334 7 2 7 2 9\n",
      "234 4 7 2 8 2\n",
      "541 5 4 3 3 6\n",
      "235 4 8 6 9 7\n",
      "394 3 6 1 6 2\n",
      "872 8 4 3 7 2\n",
      "1067\n"
     ]
    }
   ],
   "source": [
    "import itertools\n",
    "\n",
    "N, M, X = map(int, input().split())\n",
    "List = [list(map(int, input().split())) for n in range(N)]\n",
    "INF = 10**7\n",
    "ans = INF\n",
    "C_pro = list(itertools.product([0,1], repeat=N))\n",
    "\n",
    "for c_pro in C_pro:\n",
    "    count = 0\n",
    "    cost = 0\n",
    "    ans_list = [0 for i in range(M)]\n",
    "    for c in c_pro:\n",
    "        if c == 1:\n",
    "            cost += List[count][0]\n",
    "            ans_list = [answ+list for answ, list in zip(ans_list,List[count][1:])]\n",
    "        count += 1\n",
    "    ok = True\n",
    "    for i in range(len(ans_list)):\n",
    "        if ans_list[i] < X:\n",
    "            ok = False\n",
    "            break\n",
    "    if ok:\n",
    "        ans = min(ans, cost)\n",
    "    \n",
    "\n",
    "if ans == 10**7:\n",
    "    print(-1)\n",
    "else:\n",
    "    print(ans)"
   ]
  },
  {
   "cell_type": "markdown",
   "metadata": {},
   "source": [
    "## D"
   ]
  },
  {
   "cell_type": "code",
   "execution_count": 67,
   "metadata": {},
   "outputs": [
    {
     "name": "stdout",
     "output_type": "stream",
     "text": [
      "6 727202214173249351 \n",
      "6 5 2 5 3 2\n",
      "2\n"
     ]
    }
   ],
   "source": [
    "N, K = map(int, input().split())\n",
    "A = list(map(int, input().split()))# 0index\n",
    "visi = [-1 for i in range(N)]# 訪れたタイミングを記録(-1: 訪れてない)\n",
    "L = [1] # 今いる町を追加(町番号:1index)\n",
    "visi[0] = 0\n",
    "way = A[0] #次に向かう町の番号を取得\n",
    "#l = []\n",
    "count = 1\n",
    "\n",
    "while visi[way-1] == -1: #すでに訪れた町が出てくるまでループ\n",
    "    visi[way-1] = count\n",
    "    count += 1\n",
    "    L.append(way)\n",
    "    way = A[way-1]\n",
    "\n",
    "l = count - visi[way-1]\n",
    "l_pre = visi[way-1]\n",
    "loop_L = L[l_pre:]\n",
    "\n",
    "\n",
    "\n",
    "if K > l_pre:\n",
    "    index = (K- l_pre)% l\n",
    "    ans = loop_L[index]\n",
    "else:\n",
    "    ans = L[K]\n",
    "print(ans)"
   ]
  },
  {
   "cell_type": "markdown",
   "metadata": {},
   "source": [
    "#### point\n",
    "- 考えられ得る場合をすべて考えて漏れなく正しく条件分岐させる必要がある.\n",
    "- 配列の添字の扱いに慣れる. "
   ]
  }
 ],
 "metadata": {
  "kernelspec": {
   "display_name": "Python 3",
   "language": "python",
   "name": "python3"
  },
  "language_info": {
   "codemirror_mode": {
    "name": "ipython",
    "version": 3
   },
   "file_extension": ".py",
   "mimetype": "text/x-python",
   "name": "python",
   "nbconvert_exporter": "python",
   "pygments_lexer": "ipython3",
   "version": "3.6.7"
  }
 },
 "nbformat": 4,
 "nbformat_minor": 2
}
