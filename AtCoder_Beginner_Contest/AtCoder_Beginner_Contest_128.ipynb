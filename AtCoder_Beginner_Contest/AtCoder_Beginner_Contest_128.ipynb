{
 "cells": [
  {
   "cell_type": "code",
   "execution_count": 8,
   "metadata": {},
   "outputs": [
    {
     "data": {
      "text/html": [
       "<style>.container{width:96%!important;}</style>"
      ],
      "text/plain": [
       "<IPython.core.display.HTML object>"
      ]
     },
     "metadata": {},
     "output_type": "display_data"
    }
   ],
   "source": [
    "from IPython.core.display import display, HTML\n",
    "display(HTML(\"<style>.container{width:96%!important;}</style>\"))"
   ]
  },
  {
   "cell_type": "markdown",
   "metadata": {},
   "source": [
    "## 入力形式"
   ]
  },
  {
   "cell_type": "code",
   "execution_count": null,
   "metadata": {},
   "outputs": [],
   "source": [
    "# (1) [数値単独型] \n",
    "# 入力->3\n",
    "# 出力->3\n",
    "N = int(input()) \n",
    "\n",
    "# (2) [数値リスト変換型] \n",
    "# 入力->3 4 \n",
    "# 出力->[3, 4]\n",
    "L = list(map(int, input().split()))\n",
    "\n",
    "# (3) [数値複数変数型] \n",
    "# 入力->3 4 \n",
    "# 出力-> N=3, M=4\n",
    "N, M = map(int, input().split())"
   ]
  },
  {
   "cell_type": "markdown",
   "metadata": {},
   "source": [
    "# AtCoder_Beginner_Contest128(C問題)"
   ]
  },
  {
   "cell_type": "markdown",
   "metadata": {},
   "source": [
    "## C"
   ]
  },
  {
   "cell_type": "code",
   "execution_count": null,
   "metadata": {},
   "outputs": [],
   "source": [
    "# python template for atcoder1\n",
    "import sys\n",
    "sys.setrecursionlimit(10**9)\n",
    "input = sys.stdin.readline\n",
    "\n",
    "\n",
    "N, M = map(int, input().split())\n",
    "lamps = [list(map(lambda x:int(x)-1, input().split()))[1:]\n",
    "         for _ in range(M)]\n",
    "p = list(map(int, input().split()))\n",
    "ans = 0\n",
    "\n",
    "# bit全探索(スイッチの入れ方を全探索する)\n",
    "for i in range(1 << N):\n",
    "    for r in range(M):  # 全てのランプがついてるかチェック\n",
    "        on_sum = 0  # ランプrにおいて、onのスイッチの数\n",
    "        for j in range(N):  # スイッチのj番目について\n",
    "            if i >> j & 1 and j in lamps[r]:\n",
    "                on_sum += 1  # スイッチjがランプrに繋がってて、onならon_sum+=1\n",
    "        if on_sum % 2 != p[r]:  # on_off check\n",
    "            break  # 一つでもoffなら次のbitに\n",
    "    else:\n",
    "        ans += 1\n",
    "print(ans)"
   ]
  },
  {
   "cell_type": "code",
   "execution_count": null,
   "metadata": {},
   "outputs": [],
   "source": [
    "N, M = map(int, input().split())\n",
    "den_lists = []\n",
    "for m in range(M):\n",
    "    den_lists.append(list(map(int, input().split())))\n",
    "p = list(map(int, input().split()))\n",
    "count = 0\n",
    "\n",
    "for i in range(2**N+1):\n",
    "    s_list = []\n",
    "    for j in range(N):\n",
    "        if (i >> j) & 1:\n",
    "            s_list.append(j+1)\n",
    "    print(f\"s_list:{s_list}\")     \n",
    "    den_count = 0\n",
    "    for m, den in enumerate(den_lists):\n",
    "        tmp = 0\n",
    "        for d in den[1:]:\n",
    "            if d in s_list:\n",
    "                tmp += 1# 繋がったスイッチのうち何個ついてるか\n",
    "        #print(f\"tmp:{tmp}\")        \n",
    "        if tmp % 2 == p[m]:\n",
    "            #print(m)\n",
    "            den_count += 1# 今のスイッチのon,offの組み合わせで全体の電球が何個ついてるか.\n",
    "    #print(f\"den_count:{den_count}\")\n",
    "        \n",
    "    if den_count == len(den_lists):\n",
    "        count += 1\n",
    "        \n",
    "    \n",
    "    \n",
    "\n",
    "print(count)"
   ]
  }
 ],
 "metadata": {
  "kernelspec": {
   "display_name": "Python 3",
   "language": "python",
   "name": "python3"
  },
  "language_info": {
   "codemirror_mode": {
    "name": "ipython",
    "version": 3
   },
   "file_extension": ".py",
   "mimetype": "text/x-python",
   "name": "python",
   "nbconvert_exporter": "python",
   "pygments_lexer": "ipython3",
   "version": "3.6.7"
  }
 },
 "nbformat": 4,
 "nbformat_minor": 2
}
