{
 "cells": [
  {
   "cell_type": "code",
   "execution_count": 8,
   "metadata": {},
   "outputs": [
    {
     "data": {
      "text/html": [
       "<style>.container{width:96%!important;}</style>"
      ],
      "text/plain": [
       "<IPython.core.display.HTML object>"
      ]
     },
     "metadata": {},
     "output_type": "display_data"
    }
   ],
   "source": [
    "from IPython.core.display import display, HTML\n",
    "display(HTML(\"<style>.container{width:96%!important;}</style>\"))"
   ]
  },
  {
   "cell_type": "markdown",
   "metadata": {},
   "source": [
    "## 入力形式"
   ]
  },
  {
   "cell_type": "code",
   "execution_count": null,
   "metadata": {},
   "outputs": [],
   "source": [
    "# (1) [数値単独型] \n",
    "# 入力->3\n",
    "# 出力->3\n",
    "N = int(input()) \n",
    "\n",
    "# (2) [数値リスト変換型] \n",
    "# 入力->3 4 \n",
    "# 出力->[3, 4]\n",
    "L = list(map(int, input().split()))\n",
    "\n",
    "# (3) [数値複数変数型] \n",
    "# 入力->3 4 \n",
    "# 出力-> N=3, M=4\n",
    "N, M = map(int, input().split())"
   ]
  },
  {
   "cell_type": "markdown",
   "metadata": {},
   "source": [
    "# AtCoder_Beginner_Contest166(A,B,C問題のみ)"
   ]
  },
  {
   "cell_type": "markdown",
   "metadata": {},
   "source": [
    "## A"
   ]
  },
  {
   "cell_type": "code",
   "execution_count": null,
   "metadata": {},
   "outputs": [],
   "source": [
    "S = input()\n",
    "\n",
    "if S == \"ABC\":\n",
    "    print(\"ARC\")\n",
    "else:\n",
    "    print(\"ABC\")"
   ]
  },
  {
   "cell_type": "markdown",
   "metadata": {},
   "source": [
    "## B"
   ]
  },
  {
   "cell_type": "code",
   "execution_count": 4,
   "metadata": {},
   "outputs": [
    {
     "name": "stdout",
     "output_type": "stream",
     "text": [
      "3 3\n",
      "1\n",
      "3\n",
      "1\n",
      "3\n",
      "1\n",
      "3\n",
      "2\n"
     ]
    }
   ],
   "source": [
    "N, K = map(int, input().split())\n",
    "sunuke_list = [False for n in range(N)]\n",
    "\n",
    "for k in range(K):\n",
    "    d = int(input()) \n",
    "    kasi = list(map(int, input().split()))\n",
    "    \n",
    "    for j in kasi:\n",
    "        sunuke_list[j-1] = True\n",
    "\n",
    "print(N-sum(sunuke_list))"
   ]
  },
  {
   "cell_type": "markdown",
   "metadata": {},
   "source": [
    "## C"
   ]
  },
  {
   "cell_type": "code",
   "execution_count": 15,
   "metadata": {},
   "outputs": [
    {
     "name": "stdout",
     "output_type": "stream",
     "text": [
      "6 5\n",
      "8 6 9 1 2 1\n",
      "{0: [], 1: [], 2: [], 3: [], 4: [], 5: []}\n",
      "\n",
      "1 3\n",
      "4 2\n",
      "4 3\n",
      "4 6\n",
      "4 6\n",
      "{0: [9], 1: [1], 2: [8, 1], 3: [6, 9, 1, 1], 4: [], 5: [1, 1]}\n",
      "\n",
      "3\n"
     ]
    }
   ],
   "source": [
    "N, M = map(int, input().split())\n",
    "H = list(map(int, input().split()))\n",
    "neib = {}\n",
    "\n",
    "for n in range(N):\n",
    "    neib[n]=[]\n",
    "\n",
    "#print(neib)\n",
    "#print()\n",
    "for m in range(M):\n",
    "    A, B = map(int, input().split())\n",
    "    neib[A-1].append(H[B-1])\n",
    "    neib[B-1].append(H[A-1])\n",
    "    \n",
    "count = 0\n",
    "#print(neib)\n",
    "#print()\n",
    "\n",
    "for k, v in neib.items():\n",
    "    if len(v)==0:\n",
    "        count += 1\n",
    "    elif H[k] > max(v):\n",
    "        count += 1\n",
    "print(count)"
   ]
  }
 ],
 "metadata": {
  "kernelspec": {
   "display_name": "Python 3",
   "language": "python",
   "name": "python3"
  },
  "language_info": {
   "codemirror_mode": {
    "name": "ipython",
    "version": 3
   },
   "file_extension": ".py",
   "mimetype": "text/x-python",
   "name": "python",
   "nbconvert_exporter": "python",
   "pygments_lexer": "ipython3",
   "version": "3.6.7"
  }
 },
 "nbformat": 4,
 "nbformat_minor": 2
}
