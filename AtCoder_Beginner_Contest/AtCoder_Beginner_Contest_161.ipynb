{
 "cells": [
  {
   "cell_type": "code",
   "execution_count": 8,
   "metadata": {},
   "outputs": [
    {
     "data": {
      "text/html": [
       "<style>.container{width:96%!important;}</style>"
      ],
      "text/plain": [
       "<IPython.core.display.HTML object>"
      ]
     },
     "metadata": {},
     "output_type": "display_data"
    }
   ],
   "source": [
    "from IPython.core.display import display, HTML\n",
    "display(HTML(\"<style>.container{width:96%!important;}</style>\"))"
   ]
  },
  {
   "cell_type": "markdown",
   "metadata": {},
   "source": [
    "## 入力形式"
   ]
  },
  {
   "cell_type": "code",
   "execution_count": null,
   "metadata": {},
   "outputs": [],
   "source": [
    "# (1) [数値単独型] \n",
    "# 入力->3\n",
    "# 出力->3\n",
    "N = int(input()) \n",
    "\n",
    "# (2) [数値リスト変換型] \n",
    "# 入力->3 4 \n",
    "# 出力->[3, 4]\n",
    "L = list(map(int, input().split()))\n",
    "\n",
    "# (3) [数値複数変数型] \n",
    "# 入力->3 4 \n",
    "# 出力-> N=3, M=4\n",
    "N, M = map(int, input().split())"
   ]
  },
  {
   "cell_type": "markdown",
   "metadata": {},
   "source": [
    "# AtCoder_Beginner_Contest161 (A,B,C問題のみ)"
   ]
  },
  {
   "cell_type": "markdown",
   "metadata": {},
   "source": [
    "## A"
   ]
  },
  {
   "cell_type": "code",
   "execution_count": 9,
   "metadata": {},
   "outputs": [
    {
     "name": "stdout",
     "output_type": "stream",
     "text": [
      "21 59 31\n",
      "31 21 59 "
     ]
    }
   ],
   "source": [
    "A,B,C = map(int, input().split())\n",
    "tmp = A\n",
    "A = B\n",
    "B = tmp\n",
    "\n",
    "tmp = A\n",
    "A = C\n",
    "C = tmp\n",
    "\n",
    "print(A, end=\" \")\n",
    "print(B, end=\" \")\n",
    "print(C, end=\" \")"
   ]
  },
  {
   "cell_type": "markdown",
   "metadata": {},
   "source": [
    "## B"
   ]
  },
  {
   "cell_type": "code",
   "execution_count": 8,
   "metadata": {},
   "outputs": [
    {
     "name": "stdout",
     "output_type": "stream",
     "text": [
      "3 2\n",
      "380 9 1\n",
      "No\n"
     ]
    }
   ],
   "source": [
    "N, M = map(int, input().split())\n",
    "A = list(map(int, input().split()))\n",
    "A = sorted(A,reverse=True)\n",
    "\n",
    "suma = sum(A)\n",
    "sup = (1 / (4*M)) * suma\n",
    "\n",
    "count = 0\n",
    "flag = 0\n",
    "for a in A:\n",
    "    if a < sup:\n",
    "        break\n",
    "    else:\n",
    "        count += 1\n",
    "\n",
    "if count >= M:\n",
    "    print(\"Yes\")\n",
    "else:\n",
    "    print(\"No\")"
   ]
  },
  {
   "cell_type": "markdown",
   "metadata": {},
   "source": [
    "## C"
   ]
  },
  {
   "cell_type": "code",
   "execution_count": 11,
   "metadata": {},
   "outputs": [
    {
     "name": "stdout",
     "output_type": "stream",
     "text": [
      "2 6\n",
      "2\n"
     ]
    }
   ],
   "source": [
    "N, K = map(int, input().split())\n",
    "q = N // K\n",
    "r = N % K\n",
    "\n",
    "if r == 0:\n",
    "    print(0)\n",
    "else:\n",
    "    mimi = abs(K-r)\n",
    "    mini = min(mimi,N)\n",
    "    print(mini)"
   ]
  },
  {
   "cell_type": "code",
   "execution_count": null,
   "metadata": {},
   "outputs": [],
   "source": [
    "K = int(input()) \n"
   ]
  }
 ],
 "metadata": {
  "kernelspec": {
   "display_name": "Python 3",
   "language": "python",
   "name": "python3"
  },
  "language_info": {
   "codemirror_mode": {
    "name": "ipython",
    "version": 3
   },
   "file_extension": ".py",
   "mimetype": "text/x-python",
   "name": "python",
   "nbconvert_exporter": "python",
   "pygments_lexer": "ipython3",
   "version": "3.6.7"
  }
 },
 "nbformat": 4,
 "nbformat_minor": 2
}
