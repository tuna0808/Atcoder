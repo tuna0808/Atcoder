{
 "cells": [
  {
   "cell_type": "code",
   "execution_count": 8,
   "metadata": {},
   "outputs": [
    {
     "data": {
      "text/html": [
       "<style>.container{width:96%!important;}</style>"
      ],
      "text/plain": [
       "<IPython.core.display.HTML object>"
      ]
     },
     "metadata": {},
     "output_type": "display_data"
    }
   ],
   "source": [
    "from IPython.core.display import display, HTML\n",
    "display(HTML(\"<style>.container{width:96%!important;}</style>\"))"
   ]
  },
  {
   "cell_type": "markdown",
   "metadata": {},
   "source": [
    "## 入力形式"
   ]
  },
  {
   "cell_type": "code",
   "execution_count": null,
   "metadata": {},
   "outputs": [],
   "source": [
    "# (1) [数値単独型] \n",
    "# 入力->3\n",
    "# 出力->3\n",
    "N = int(input()) \n",
    "\n",
    "# (2) [数値リスト変換型] \n",
    "# 入力->3 4 \n",
    "# 出力->[3, 4]\n",
    "L = list(map(int, input().split()))\n",
    "\n",
    "# (3) [数値複数変数型] \n",
    "# 入力->3 4 \n",
    "# 出力-> N=3, M=4\n",
    "N, M = map(int, input().split())"
   ]
  },
  {
   "cell_type": "markdown",
   "metadata": {},
   "source": [
    "# AtCoder_Beginner_Contest165(A,B,C問題のみ)"
   ]
  },
  {
   "cell_type": "markdown",
   "metadata": {},
   "source": [
    "## A"
   ]
  },
  {
   "cell_type": "code",
   "execution_count": 7,
   "metadata": {},
   "outputs": [
    {
     "name": "stdout",
     "output_type": "stream",
     "text": [
      "1\n",
      "11 11\n",
      "OK\n"
     ]
    }
   ],
   "source": [
    "K = int(input()) \n",
    "A,B = map(int, input().split())\n",
    "flag = 0\n",
    "for i in range(A, B+1):\n",
    "    if i % K == 0:\n",
    "        flag = 1\n",
    "        break\n",
    "    else:\n",
    "        continue\n",
    "\n",
    "if flag == 1:\n",
    "    print(\"OK\")\n",
    "else:\n",
    "    print(\"NG\")"
   ]
  },
  {
   "cell_type": "markdown",
   "metadata": {},
   "source": [
    "## B"
   ]
  },
  {
   "cell_type": "code",
   "execution_count": 11,
   "metadata": {},
   "outputs": [
    {
     "name": "stdout",
     "output_type": "stream",
     "text": [
      "1333333333\n",
      "1706\n"
     ]
    }
   ],
   "source": [
    "X = int(input()) \n",
    "k = 0\n",
    "n = 100\n",
    "\n",
    "while(n < X):\n",
    "    n = int(n*1.01)\n",
    "    k += 1\n",
    "\n",
    "    \n",
    "print(k)\n",
    "    \n"
   ]
  },
  {
   "cell_type": "markdown",
   "metadata": {},
   "source": [
    "## C"
   ]
  },
  {
   "cell_type": "code",
   "execution_count": 30,
   "metadata": {},
   "outputs": [
    {
     "name": "stdout",
     "output_type": "stream",
     "text": [
      "3 4 3\n",
      "1 3 3 100\n",
      "1 2 2 10\n",
      "2 3 2 10\n",
      "110\n"
     ]
    }
   ],
   "source": [
    "import itertools\n",
    "N, M, Q = map(int, input().split())\n",
    "vec = [list(map(int, input().split())) for i in range(Q)]\n",
    "A = itertools.combinations_with_replacement(range(1,M+1), N)\n",
    "ans = 0\n",
    "\n",
    "for a in A:\n",
    "    tmp = 0\n",
    "    for v in vec:\n",
    "        if (a[v[1]-1] - a[v[0]-1]) == v[2]:\n",
    "            tmp += v[3]\n",
    "    if ans < tmp:\n",
    "        ans = tmp\n",
    "        \n",
    "print(ans)"
   ]
  },
  {
   "cell_type": "markdown",
   "metadata": {},
   "source": [
    "- 深さ優先探索(dfs)を使って0と1の順列を列挙して, そこから広義単調増加の数列を作成(列挙)する方法は？\n",
    "- その際1<=M<=10だから最初に０が来てはいけないがそこをどう処理する?(1からはじめてM-1個の玉にすればいいの？)"
   ]
  }
 ],
 "metadata": {
  "kernelspec": {
   "display_name": "Python 3",
   "language": "python",
   "name": "python3"
  },
  "language_info": {
   "codemirror_mode": {
    "name": "ipython",
    "version": 3
   },
   "file_extension": ".py",
   "mimetype": "text/x-python",
   "name": "python",
   "nbconvert_exporter": "python",
   "pygments_lexer": "ipython3",
   "version": "3.6.7"
  }
 },
 "nbformat": 4,
 "nbformat_minor": 2
}
