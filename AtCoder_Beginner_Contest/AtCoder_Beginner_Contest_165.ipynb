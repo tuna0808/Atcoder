{
 "cells": [
  {
   "cell_type": "code",
   "execution_count": 8,
   "metadata": {},
   "outputs": [
    {
     "data": {
      "text/html": [
       "<style>.container{width:96%!important;}</style>"
      ],
      "text/plain": [
       "<IPython.core.display.HTML object>"
      ]
     },
     "metadata": {},
     "output_type": "display_data"
    }
   ],
   "source": [
    "from IPython.core.display import display, HTML\n",
    "display(HTML(\"<style>.container{width:96%!important;}</style>\"))"
   ]
  },
  {
   "cell_type": "markdown",
   "metadata": {},
   "source": [
    "## 入力形式"
   ]
  },
  {
   "cell_type": "code",
   "execution_count": null,
   "metadata": {},
   "outputs": [],
   "source": [
    "# (1) [数値単独型] \n",
    "# 入力->3\n",
    "# 出力->3\n",
    "N = int(input()) \n",
    "\n",
    "# (2) [数値リスト変換型] \n",
    "# 入力->3 4 \n",
    "# 出力->[3, 4]\n",
    "L = list(map(int, input().split()))\n",
    "\n",
    "# (3) [数値複数変数型] \n",
    "# 入力->3 4 \n",
    "# 出力-> N=3, M=4\n",
    "N, M = map(int, input().split())"
   ]
  },
  {
   "cell_type": "markdown",
   "metadata": {},
   "source": [
    "# AtCoder_Beginner_Contest165(A,B,C問題のみ)"
   ]
  },
  {
   "cell_type": "markdown",
   "metadata": {},
   "source": [
    "## A"
   ]
  },
  {
   "cell_type": "code",
   "execution_count": 7,
   "metadata": {},
   "outputs": [
    {
     "name": "stdout",
     "output_type": "stream",
     "text": [
      "1\n",
      "11 11\n",
      "OK\n"
     ]
    }
   ],
   "source": [
    "K = int(input()) \n",
    "A,B = map(int, input().split())\n",
    "flag = 0\n",
    "for i in range(A, B+1):\n",
    "    if i % K == 0:\n",
    "        flag = 1\n",
    "        break\n",
    "    else:\n",
    "        continue\n",
    "\n",
    "if flag == 1:\n",
    "    print(\"OK\")\n",
    "else:\n",
    "    print(\"NG\")"
   ]
  },
  {
   "cell_type": "markdown",
   "metadata": {},
   "source": [
    "## B"
   ]
  },
  {
   "cell_type": "code",
   "execution_count": 11,
   "metadata": {},
   "outputs": [
    {
     "name": "stdout",
     "output_type": "stream",
     "text": [
      "1333333333\n",
      "1706\n"
     ]
    }
   ],
   "source": [
    "X = int(input()) \n",
    "k = 0\n",
    "n = 100\n",
    "\n",
    "while(n < X):\n",
    "    n = int(n*1.01)\n",
    "    k += 1\n",
    "\n",
    "    \n",
    "print(k)\n",
    "    \n"
   ]
  },
  {
   "cell_type": "markdown",
   "metadata": {},
   "source": [
    "## C"
   ]
  },
  {
   "cell_type": "code",
   "execution_count": 39,
   "metadata": {},
   "outputs": [],
   "source": [
    "A_list = []\n",
    "for i in range(10**(N-1),10**N):\n",
    "    A = [int(x) for x in list(str(i))]\n",
    "    A_replace = [int(str(a).replace('0', '10')) for a in A]\n",
    "    if A_replace == sorted(A_replace):\n",
    "        A_list.append(A_replace)"
   ]
  },
  {
   "cell_type": "code",
   "execution_count": 51,
   "metadata": {},
   "outputs": [
    {
     "name": "stdout",
     "output_type": "stream",
     "text": [
      "4 6 10\n",
      "2 4 1 86568\n",
      "1 4 0 90629\n",
      "2 3 0 90310\n",
      "3 4 1 29211\n",
      "3 4 3 78537\n",
      "3 4 2 8580\n",
      "1 2 1 96263\n",
      "1 4 2 2156\n",
      "1 2 0 94325\n",
      "1 4 3 94328\n",
      "357500\n"
     ]
    }
   ],
   "source": [
    "N, M, Q = map(int, input().split())\n",
    "max_n = 0\n",
    "\n",
    "\n",
    "A_list = []\n",
    "N=2\n",
    "for i in range(10**(N-1),10**N):\n",
    "    #A = [int(x) for x in list(str(i))]\n",
    "    #A_replace = [int(str(a).replace('0', '10')) for a in A]\n",
    "    #if A_replace == sorted(A_replace):\n",
    "    A_list.append(sorted(str(i)))\n",
    "abcd_list = []\n",
    "for q in range(Q):\n",
    "    abcd_list.append(list(map(int, input().split())))\n",
    "\n",
    "for A in A_list:\n",
    "    tokuten = 0\n",
    "    for q in range(Q):\n",
    "        if (A[abcd_list[q][1]-1] - A[abcd_list[q][0]-1] == abcd_list[q][2]):\n",
    "            tokuten += abcd_list[q][3]\n",
    "\n",
    "    if tokuten > max_n:\n",
    "        max_n = tokuten\n",
    "\n",
    "print(max_n)"
   ]
  }
 ],
 "metadata": {
  "kernelspec": {
   "display_name": "Python 3",
   "language": "python",
   "name": "python3"
  },
  "language_info": {
   "codemirror_mode": {
    "name": "ipython",
    "version": 3
   },
   "file_extension": ".py",
   "mimetype": "text/x-python",
   "name": "python",
   "nbconvert_exporter": "python",
   "pygments_lexer": "ipython3",
   "version": "3.6.7"
  }
 },
 "nbformat": 4,
 "nbformat_minor": 2
}
