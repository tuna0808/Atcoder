{
 "cells": [
  {
   "cell_type": "markdown",
   "metadata": {},
   "source": [
    "# AtCoder_Beginner_Contest_155 (A,B,C問題のみ)"
   ]
  },
  {
   "cell_type": "markdown",
   "metadata": {},
   "source": [
    "## A - Poor"
   ]
  },
  {
   "cell_type": "code",
   "execution_count": 98,
   "metadata": {},
   "outputs": [
    {
     "name": "stdout",
     "output_type": "stream",
     "text": [
      "1 2 2\n",
      "Yes\n"
     ]
    }
   ],
   "source": [
    "A = list(map(int, input().split(\" \")))\n",
    "count=0\n",
    "\n",
    "if A[0]==A[1]:\n",
    "    count += 1\n",
    "if A[0]==A[2]:\n",
    "    count+=1\n",
    "if A[1]==A[2]:\n",
    "    count += 1\n",
    "\n",
    "if count == 1:\n",
    "    print(\"Yes\")\n",
    "else:\n",
    "    print(\"No\")"
   ]
  },
  {
   "cell_type": "markdown",
   "metadata": {},
   "source": [
    "## B - Papers, Please"
   ]
  },
  {
   "cell_type": "code",
   "execution_count": null,
   "metadata": {},
   "outputs": [],
   "source": [
    "N = int(input()) #入力->3(数値単独型)\n",
    "L = map(int, input().split())#入力->3 4(数値分割型)\n",
    "flag = 0\n",
    "listn = []\n",
    "\n",
    "for i in L:\n",
    "    if (i % 2) == 0:\n",
    "        listn.append(i)\n",
    "\n",
    "for j in listn:\n",
    "    if ((j % 3)==0) | ((j % 5)==0):\n",
    "        continue\n",
    "    else:\n",
    "        flag=1\n",
    "        break\n",
    "\n",
    "if flag == 0:\n",
    "    print(\"APPROVED\")\n",
    "else:\n",
    "    print(\"DENIED\")"
   ]
  },
  {
   "cell_type": "markdown",
   "metadata": {},
   "source": [
    "## C - Poll"
   ]
  },
  {
   "cell_type": "markdown",
   "metadata": {},
   "source": [
    "#### 小技"
   ]
  },
  {
   "cell_type": "markdown",
   "metadata": {},
   "source": [
    "---"
   ]
  },
  {
   "cell_type": "markdown",
   "metadata": {},
   "source": [
    "1, 長い行のinput()が必要な場合は, \n",
    "```\n",
    "for i in range(N):\n",
    "    L.append(i)\n",
    "```\n",
    "としてfor文を回すのではなく, \n",
    "```\n",
    "L = [input() for _ in range(N)]\n",
    "```\n",
    "とした方がコードが見やすい.(実行速度に大差はなかった.)"
   ]
  },
  {
   "cell_type": "markdown",
   "metadata": {},
   "source": [
    "---"
   ]
  },
  {
   "cell_type": "markdown",
   "metadata": {},
   "source": [
    "2, 長いリストの中身をprintをする必要があるとき, \n",
    "```\n",
    "L=[...]\n",
    "for i in L:\n",
    "print(i)\n",
    "```\n",
    "としてfor文で回すのではなく, \n",
    "```\n",
    "L=[...]\n",
    "print(*L, sep=\"\\n\")\n",
    "```\n",
    "とした方が若干早い."
   ]
  },
  {
   "cell_type": "markdown",
   "metadata": {},
   "source": [
    "---"
   ]
  },
  {
   "cell_type": "markdown",
   "metadata": {},
   "source": [
    "### 1, `ダメな例`\n",
    "- リスト内包表記の部分で毎回辞書のバリューの最大値を求めていて, そこがタイムロスの原因になっている."
   ]
  },
  {
   "cell_type": "code",
   "execution_count": null,
   "metadata": {},
   "outputs": [],
   "source": [
    "N = int(input())\n",
    "Dic = {}\n",
    "for n in range(N):\n",
    "    S = input()\n",
    "    if S in Dic.keys():\n",
    "        Dic[S] = Dic[S] + 1\n",
    "    else:\n",
    "        Dic[S] = 1\n",
    "    \n",
    "max_k_list = [kv[0] for kv in Dic.items() if kv[1] == max(Dic.values())]# ここのmax()が毎回計算されていることが問題!!!!\n",
    "max_k_list = sorted(max_k_list)\n",
    "#for t in max_k_list:　←小技2を用いない場合\n",
    "    #print(t) ←小技2を用いない場合\n",
    "print(*max_k_list, sep=\"\\n\") #  小技2"
   ]
  },
  {
   "cell_type": "markdown",
   "metadata": {},
   "source": [
    "### 2, `正解`\n",
    "- 計算したmax()の値を変数に保存しておき, それを使い回す.\n",
    "- 実行時間: 638ms"
   ]
  },
  {
   "cell_type": "code",
   "execution_count": null,
   "metadata": {},
   "outputs": [],
   "source": [
    "N = int(input())\n",
    "Dic = {}\n",
    "for n in range(N):\n",
    "    S = input()\n",
    "    if S in Dic.keys():\n",
    "        Dic[S] = Dic[S] + 1\n",
    "    else:\n",
    "        Dic[S] = 1\n",
    "\n",
    "max_val = max(Dic.values())# 変数にmax()の値を代入.\n",
    "max_k_list = [kv[0] for kv in Dic.items() if kv[1] == max_val]#変数を参照する形にする.\n",
    "max_k_list = sorted(max_k_list)\n",
    "\n",
    "#for t in max_k_list:　←小技2を用いない場合\n",
    "   # print(t) ←小技2を用いない場合\n",
    "print(*max_k_list, sep=\"\\n\") # 小技2"
   ]
  },
  {
   "cell_type": "markdown",
   "metadata": {},
   "source": [
    "### 3, `別解`\n",
    "- collectionsのCounterを利用する.\n",
    "- 実行時間: 628ms"
   ]
  },
  {
   "cell_type": "code",
   "execution_count": 86,
   "metadata": {},
   "outputs": [
    {
     "name": "stdout",
     "output_type": "stream",
     "text": [
      "7\n",
      "a\n",
      "a\n",
      "a\n",
      "b\n",
      "b\n",
      "b\n",
      "c\n"
     ]
    }
   ],
   "source": [
    "from collections import Counter\n",
    "N = int(input())\n",
    "L = [input() for _ in range(N)] # 小技1\n",
    "\n",
    "#L = [] ← 小技1を使わない場合\n",
    "#for n in range(N): ← 小技1を使わない場合\n",
    "    #S = input() ← 小技1を使わない場合\n",
    "    #L.append(S) ← 小技1を使わない場合\n",
    "\n",
    "Dic = Counter(L)\n",
    "max_value = max(Dic.values())\n",
    "max_k_list = [i for i, j in Dic.items() if j == max_value]\n",
    "max_k_list = sorted(max_k_list)\n",
    " \n",
    "print(*max_k_list , sep=\"\\n\")"
   ]
  }
 ],
 "metadata": {
  "kernelspec": {
   "display_name": "Python 3",
   "language": "python",
   "name": "python3"
  },
  "language_info": {
   "codemirror_mode": {
    "name": "ipython",
    "version": 3
   },
   "file_extension": ".py",
   "mimetype": "text/x-python",
   "name": "python",
   "nbconvert_exporter": "python",
   "pygments_lexer": "ipython3",
   "version": "3.6.7"
  }
 },
 "nbformat": 4,
 "nbformat_minor": 2
}
