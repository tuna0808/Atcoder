{
 "cells": [
  {
   "cell_type": "code",
   "execution_count": 8,
   "metadata": {},
   "outputs": [
    {
     "data": {
      "text/html": [
       "<style>.container{width:96%!important;}</style>"
      ],
      "text/plain": [
       "<IPython.core.display.HTML object>"
      ]
     },
     "metadata": {},
     "output_type": "display_data"
    }
   ],
   "source": [
    "from IPython.core.display import display, HTML\n",
    "display(HTML(\"<style>.container{width:96%!important;}</style>\"))"
   ]
  },
  {
   "cell_type": "markdown",
   "metadata": {},
   "source": [
    "## 入力形式"
   ]
  },
  {
   "cell_type": "code",
   "execution_count": null,
   "metadata": {},
   "outputs": [],
   "source": [
    "# (1) [数値単独型] \n",
    "# 入力->3\n",
    "# 出力->3\n",
    "N = int(input()) \n",
    "\n",
    "# (2) [数値リスト変換型] \n",
    "# 入力->3 4 \n",
    "# 出力->[3, 4]\n",
    "L = list(map(int, input().split()))\n",
    "\n",
    "# (3) [数値複数変数型] \n",
    "# 入力->3 4 \n",
    "# 出力-> N=3, M=4\n",
    "N, M = map(int, input().split())"
   ]
  },
  {
   "cell_type": "markdown",
   "metadata": {},
   "source": [
    "# AtCoder_Beginner_Contest_157 (A,B,C問題のみ)"
   ]
  },
  {
   "cell_type": "markdown",
   "metadata": {},
   "source": [
    "## A"
   ]
  },
  {
   "cell_type": "code",
   "execution_count": 9,
   "metadata": {},
   "outputs": [
    {
     "name": "stdout",
     "output_type": "stream",
     "text": [
      "5\n",
      "3\n"
     ]
    }
   ],
   "source": [
    "N = int(input()) \n",
    "\n",
    "s = N //2\n",
    "a = N % 2\n",
    "\n",
    "if a == 1:\n",
    "    s += 1\n",
    "print(s)\n"
   ]
  },
  {
   "cell_type": "code",
   "execution_count": null,
   "metadata": {},
   "outputs": [],
   "source": []
  },
  {
   "cell_type": "code",
   "execution_count": 17,
   "metadata": {},
   "outputs": [],
   "source": [
    "boL = [[False, True, False] ,\n",
    "      [False, False, False],\n",
    "      [True, True, True]]"
   ]
  },
  {
   "cell_type": "code",
   "execution_count": 26,
   "metadata": {},
   "outputs": [
    {
     "data": {
      "text/plain": [
       "True"
      ]
     },
     "execution_count": 26,
     "metadata": {},
     "output_type": "execute_result"
    }
   ],
   "source": [
    "boL[2] == [True, True, True]"
   ]
  },
  {
   "cell_type": "markdown",
   "metadata": {},
   "source": [
    "## B"
   ]
  },
  {
   "cell_type": "code",
   "execution_count": 30,
   "metadata": {},
   "outputs": [
    {
     "name": "stdout",
     "output_type": "stream",
     "text": [
      "41 7 46\n",
      "26 89 2\n",
      "78 92 8\n",
      "5\n",
      "6\n",
      "45\n",
      "16\n",
      "57\n",
      "17\n",
      "No\n"
     ]
    }
   ],
   "source": [
    "import itertools\n",
    "L = [list(map(int, input().split())) for i in range(3)]\n",
    "L = list(itertools.chain.from_iterable(L))\n",
    "bool_L = [[False, False, False] for i in range(3)]\n",
    "N = int(input())\n",
    "b_L = [int(input()) for i in range(N)]\n",
    "\n",
    "for b in b_L:\n",
    "    if b in L:\n",
    "        index = L.index(b)\n",
    "        show = index // 3\n",
    "        amari = index % 3\n",
    "        bool_L[show][ amari] = True\n",
    "        \n",
    "flag = \"No\"\n",
    "for i in bool_L:\n",
    "    if i == [True, True, True]:\n",
    "        flag = \"Yes\"\n",
    "        break\n",
    "        \n",
    "for j in range(3):\n",
    "    temp_l = []\n",
    "    for i in range(3):\n",
    "        temp_l.append(bool_L[i][j])\n",
    "    if temp_l == [True, True, True]:\n",
    "        flag = \"Yes\"\n",
    "        break\n",
    "\n",
    "if [bool_L[0][0],bool_L[1][1],bool_L[2][2]] == [True, True, True]:\n",
    "    flag = \"Yes\"\n",
    "elif [bool_L[2][0],bool_L[1][1],bool_L[0][2]] == [True, True, True]:\n",
    "     flag = \"Yes\"\n",
    "print(flag)"
   ]
  },
  {
   "cell_type": "code",
   "execution_count": 16,
   "metadata": {},
   "outputs": [
    {
     "data": {
      "text/plain": [
       "False"
      ]
     },
     "execution_count": 16,
     "metadata": {},
     "output_type": "execute_result"
    }
   ],
   "source": [
    "L == 7"
   ]
  },
  {
   "cell_type": "code",
   "execution_count": null,
   "metadata": {},
   "outputs": [],
   "source": []
  },
  {
   "cell_type": "markdown",
   "metadata": {},
   "source": [
    "## C"
   ]
  },
  {
   "cell_type": "code",
   "execution_count": 40,
   "metadata": {},
   "outputs": [
    {
     "name": "stdout",
     "output_type": "stream",
     "text": [
      "3 1\n",
      "1 0\n",
      "-1\n"
     ]
    }
   ],
   "source": [
    "N, M = map(int, input().split())\n",
    "ans = \"000\"\n",
    "bool_list = [False, False, False]\n",
    "flag = 0\n",
    "\n",
    "for m in range(M):\n",
    "    s, c = map(int, input().split())\n",
    "    if (bool_list[s-1] == False) | ((bool_list[s-1] == True) & (list_n[s-1]==c) ):\n",
    "        list_n[s-1]=c\n",
    "        bool_list[s-1]=True\n",
    "    else:\n",
    "        ans = \"-1\"\n",
    "        flag = 1\n",
    "        break\n",
    "if flag == 0:\n",
    "    for i, b in enumerate(bool_list):\n",
    "        if b:\n",
    "            ans += str(list_n[i])\n",
    "        elif (b==False) & (i != 0):\n",
    "            ans += \"0\"\n",
    "if (ans[0]==\"0\") & (N >=2):\n",
    "    ans = \"-1\"\n",
    "\n",
    "ans = int(ans)\n",
    "        \n",
    "print(ans)"
   ]
  },
  {
   "cell_type": "code",
   "execution_count": 41,
   "metadata": {},
   "outputs": [
    {
     "data": {
      "text/plain": [
       "3"
      ]
     },
     "execution_count": 41,
     "metadata": {},
     "output_type": "execute_result"
    }
   ],
   "source": [
    "a = \"003\"\n",
    "int(a)"
   ]
  },
  {
   "cell_type": "code",
   "execution_count": 49,
   "metadata": {},
   "outputs": [
    {
     "name": "stdout",
     "output_type": "stream",
     "text": [
      "3 2\n",
      "2 0\n",
      "3 1\n",
      "-1\n"
     ]
    }
   ],
   "source": [
    "N, M = map(int, input().split())\n",
    "ans_l = [0 for i in range(N)]\n",
    "ans = \"\"\n",
    "bool_list = [False for i in range(N)]\n",
    "flag = 0\n",
    "S = []\n",
    "C = []\n",
    "\n",
    "for m in range(M):\n",
    "    s, c = map(int, input().split())\n",
    "    if (bool_list[s-1] == True) & (ans_l[s-1] != c):\n",
    "        ans = \"-1\"\n",
    "        flag = 1\n",
    "        break\n",
    "    else:\n",
    "        ans_l[s-1] = c\n",
    "        S.append(s)\n",
    "        C.append(c)\n",
    "        \n",
    "\n",
    "if flag == 0:\n",
    "    if (bool_list[0]==False) & (N==3):\n",
    "        ans_l[0]=1\n",
    "    elif (bool_list[0]==False) & (N==2):\n",
    "        ans_l[0]=1\n",
    "if flag == 0:\n",
    "    if (N==3) & (ans_l[0] == 0):\n",
    "        ans = \"-1\"\n",
    "        flag = 1\n",
    "    elif (N==2) & (ans_l[0] == 0):\n",
    "        ans = \"-1\"\n",
    "        flag =1\n",
    "if flag == 0:\n",
    "    for i in ans_l:\n",
    "        ans += str(i)\n",
    "\n",
    "ans = int(ans)\n",
    "\n",
    "if len(str(ans)) != N:\n",
    "    ans\n",
    "print(ans)"
   ]
  },
  {
   "cell_type": "markdown",
   "metadata": {},
   "source": [
    "### 以下解答(AC済)"
   ]
  },
  {
   "cell_type": "code",
   "execution_count": 50,
   "metadata": {},
   "outputs": [
    {
     "name": "stdout",
     "output_type": "stream",
     "text": [
      "3 1\n",
      "1 0\n",
      "-1\n"
     ]
    }
   ],
   "source": [
    "N, M = map(int, input().split())\n",
    "ans_list=[]\n",
    "S=[]\n",
    "C=[]\n",
    "ans=0\n",
    "\n",
    "for i in range(M):\n",
    "    s,c = map(int, input().split())\n",
    "    S.append(s)\n",
    "    C.append(c)\n",
    "#print(S,C)\n",
    "for n in range(1000):\n",
    "    flag=0\n",
    "    if len(str(n)) != N:\n",
    "        continue\n",
    "    for i, s in enumerate(S):\n",
    "        n = str(n)\n",
    "        if int(n[s-1]) == C[i]:\n",
    "            continue\n",
    "        else:\n",
    "            flag=1\n",
    "            break\n",
    "    if flag == 0:\n",
    "        ans_list.append(int(n))\n",
    "#print(ans_list)\n",
    "if len(ans_list) == 0:\n",
    "    ans = -1\n",
    "if ans != -1:\n",
    "    ans=min(ans_list)\n",
    "    \n",
    "print(ans)"
   ]
  }
 ],
 "metadata": {
  "kernelspec": {
   "display_name": "Python 3",
   "language": "python",
   "name": "python3"
  },
  "language_info": {
   "codemirror_mode": {
    "name": "ipython",
    "version": 3
   },
   "file_extension": ".py",
   "mimetype": "text/x-python",
   "name": "python",
   "nbconvert_exporter": "python",
   "pygments_lexer": "ipython3",
   "version": "3.6.7"
  }
 },
 "nbformat": 4,
 "nbformat_minor": 2
}
