{
 "cells": [
  {
   "cell_type": "code",
   "execution_count": 8,
   "metadata": {},
   "outputs": [
    {
     "data": {
      "text/html": [
       "<style>.container{width:96%!important;}</style>"
      ],
      "text/plain": [
       "<IPython.core.display.HTML object>"
      ]
     },
     "metadata": {},
     "output_type": "display_data"
    }
   ],
   "source": [
    "from IPython.core.display import display, HTML\n",
    "display(HTML(\"<style>.container{width:96%!important;}</style>\"))"
   ]
  },
  {
   "cell_type": "markdown",
   "metadata": {},
   "source": [
    "## 入力形式"
   ]
  },
  {
   "cell_type": "code",
   "execution_count": null,
   "metadata": {},
   "outputs": [],
   "source": [
    "# (1) [数値単独型] \n",
    "# 入力->3\n",
    "# 出力->3\n",
    "N = int(input()) \n",
    "\n",
    "# (2) [数値リスト変換型] \n",
    "# 入力->3 4 \n",
    "# 出力->[3, 4]\n",
    "L = list(map(int, input().split()))\n",
    "\n",
    "# (3) [数値複数変数型] \n",
    "# 入力->3 4 \n",
    "# 出力-> N=3, M=4\n",
    "N, M = map(int, input().split())"
   ]
  },
  {
   "cell_type": "markdown",
   "metadata": {},
   "source": [
    "# AtCoder_Beginner_Contest162 (A,B,C問題のみ)"
   ]
  },
  {
   "cell_type": "markdown",
   "metadata": {},
   "source": [
    "## A"
   ]
  },
  {
   "cell_type": "code",
   "execution_count": 2,
   "metadata": {},
   "outputs": [
    {
     "name": "stdout",
     "output_type": "stream",
     "text": [
      "123\n",
      "No\n"
     ]
    }
   ],
   "source": [
    "N = input()\n",
    "flag = 0\n",
    "for i in N:\n",
    "    if int(i)==7:\n",
    "        flag=1\n",
    "        break\n",
    "    else:\n",
    "        continue\n",
    "        \n",
    "if flag==0:\n",
    "    print(\"No\")\n",
    "else:\n",
    "    print(\"Yes\")"
   ]
  },
  {
   "cell_type": "markdown",
   "metadata": {},
   "source": [
    "## B"
   ]
  },
  {
   "cell_type": "code",
   "execution_count": 25,
   "metadata": {},
   "outputs": [
    {
     "name": "stdout",
     "output_type": "stream",
     "text": [
      "1000000\n",
      "266666333332\n"
     ]
    }
   ],
   "source": [
    "N = int(input())\n",
    "L = []\n",
    "for i in range(1,(10**6)+1):\n",
    "    if (i % 3 == 0) | (i % 5 == 0):\n",
    "        L.append(0)\n",
    "    else:\n",
    "        L.append(i)\n",
    "\n",
    "l = L[:N]\n",
    "ans = sum(l)\n",
    "print(ans)"
   ]
  },
  {
   "cell_type": "markdown",
   "metadata": {},
   "source": [
    "## C"
   ]
  },
  {
   "cell_type": "code",
   "execution_count": 43,
   "metadata": {},
   "outputs": [
    {
     "name": "stdout",
     "output_type": "stream",
     "text": [
      "200\n",
      "10813692\n"
     ]
    }
   ],
   "source": [
    "import math\n",
    "from functools import reduce\n",
    "\n",
    "K = int(input())\n",
    "sum = 0\n",
    "for a in range(1,K+1):\n",
    "    for b in range(1,K+1):\n",
    "        tmp = math.gcd(a,b)\n",
    "        for c in range(1,K+1):\n",
    "            sum += math.gcd(tmp,c)\n",
    "print(sum)"
   ]
  },
  {
   "cell_type": "markdown",
   "metadata": {},
   "source": [
    "## D(TLE)"
   ]
  },
  {
   "cell_type": "code",
   "execution_count": 42,
   "metadata": {},
   "outputs": [
    {
     "name": "stdout",
     "output_type": "stream",
     "text": [
      "39\n",
      "RBRBGRBGGBBRRGBBRRRBGGBRBGBRBGBRBBBGBBB\n",
      "1800\n"
     ]
    }
   ],
   "source": [
    "N = int(input())\n",
    "S = input()\n",
    "count=0\n",
    "\n",
    "for i in range(1,N-1):\n",
    "    for j in range(i+1,N):\n",
    "        for k in range(j+1,N+1):\n",
    "            if j-i = k-j:\n",
    "                continue\n",
    "            else:\n",
    "                tmp = set([S[i-1],S[j-1],S[k-1]])\n",
    "                if len(tmp)==3:\n",
    "                    count += 1\n",
    "print(count)"
   ]
  }
 ],
 "metadata": {
  "kernelspec": {
   "display_name": "Python 3",
   "language": "python",
   "name": "python3"
  },
  "language_info": {
   "codemirror_mode": {
    "name": "ipython",
    "version": 3
   },
   "file_extension": ".py",
   "mimetype": "text/x-python",
   "name": "python",
   "nbconvert_exporter": "python",
   "pygments_lexer": "ipython3",
   "version": "3.6.7"
  }
 },
 "nbformat": 4,
 "nbformat_minor": 2
}
